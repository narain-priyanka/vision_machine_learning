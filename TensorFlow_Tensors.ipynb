{
  "nbformat": 4,
  "nbformat_minor": 0,
  "metadata": {
    "colab": {
      "provenance": [],
      "authorship_tag": "ABX9TyP0i+WCq+vzcMpT1O6kmiO4",
      "include_colab_link": true
    },
    "kernelspec": {
      "name": "python3",
      "display_name": "Python 3"
    },
    "language_info": {
      "name": "python"
    }
  },
  "cells": [
    {
      "cell_type": "markdown",
      "metadata": {
        "id": "view-in-github",
        "colab_type": "text"
      },
      "source": [
        "<a href=\"https://colab.research.google.com/github/narain-priyanka/vision_machine_learning/blob/master/TensorFlow_Tensors.ipynb\" target=\"_parent\"><img src=\"https://colab.research.google.com/assets/colab-badge.svg\" alt=\"Open In Colab\"/></a>"
      ]
    },
    {
      "cell_type": "code",
      "execution_count": 1,
      "metadata": {
        "id": "9BLEhXcY5Lo3"
      },
      "outputs": [],
      "source": [
        "import tensorflow as tf"
      ]
    },
    {
      "cell_type": "code",
      "source": [
        "tensor_zero_d = tf.constant(4)\n",
        "print(tensor_zero_d)"
      ],
      "metadata": {
        "colab": {
          "base_uri": "https://localhost:8080/"
        },
        "id": "scp3TApa5cH2",
        "outputId": "1731b007-fe1c-478c-9404-facee5f66b10"
      },
      "execution_count": 4,
      "outputs": [
        {
          "output_type": "stream",
          "name": "stdout",
          "text": [
            "tf.Tensor(4, shape=(), dtype=int32)\n"
          ]
        }
      ]
    },
    {
      "cell_type": "code",
      "source": [
        "tensor_one_d = tf.constant([2,0,3])\n",
        "print(tensor_one_d)"
      ],
      "metadata": {
        "colab": {
          "base_uri": "https://localhost:8080/"
        },
        "id": "5cowz_yv6z-U",
        "outputId": "900d9cbf-c6fa-4c0b-eef1-cd11193b8ad1"
      },
      "execution_count": 6,
      "outputs": [
        {
          "output_type": "stream",
          "name": "stdout",
          "text": [
            "tf.Tensor([2 3], shape=(2,), dtype=int32)\n"
          ]
        }
      ]
    },
    {
      "cell_type": "code",
      "source": [
        "tensor_two_d = tf.constant([[2,0,3],[1,0,2],[-1,0,3.0]]\n",
        "                           )\n",
        "print(tensor_two_d)"
      ],
      "metadata": {
        "colab": {
          "base_uri": "https://localhost:8080/"
        },
        "id": "3nb8xQDV6_PI",
        "outputId": "eba2833d-8091-4d68-e73e-ab7921ac09bc"
      },
      "execution_count": 8,
      "outputs": [
        {
          "output_type": "stream",
          "name": "stdout",
          "text": [
            "tf.Tensor(\n",
            "[[ 2.  0.  3.]\n",
            " [ 1.  0.  2.]\n",
            " [-1.  0.  3.]], shape=(3, 3), dtype=float32)\n"
          ]
        }
      ]
    },
    {
      "cell_type": "code",
      "source": [
        "tensor_three_d = tf.constant([\n",
        "  [[2,0,3],\n",
        "   [1,0,2]],\n",
        "  [[2,0,3],\n",
        "   [1,0,2]],\n",
        "  [[2,0,3],\n",
        "   [1,0,2]],\n",
        "  [[2,0,3],\n",
        "   [1,0,2]]\n",
        "  ])\n",
        "print(tensor_three_d)"
      ],
      "metadata": {
        "colab": {
          "base_uri": "https://localhost:8080/"
        },
        "id": "-BSmrltv7OcW",
        "outputId": "82559c83-fc0a-4fdc-de50-1d1d0631ce2b"
      },
      "execution_count": 11,
      "outputs": [
        {
          "output_type": "stream",
          "name": "stdout",
          "text": [
            "tf.Tensor(\n",
            "[[[2 0 3]\n",
            "  [1 0 2]]\n",
            "\n",
            " [[2 0 3]\n",
            "  [1 0 2]]\n",
            "\n",
            " [[2 0 3]\n",
            "  [1 0 2]]\n",
            "\n",
            " [[2 0 3]\n",
            "  [1 0 2]]], shape=(4, 2, 3), dtype=int32)\n"
          ]
        }
      ]
    },
    {
      "cell_type": "code",
      "source": [
        "print(tensor_three_d.shape)"
      ],
      "metadata": {
        "colab": {
          "base_uri": "https://localhost:8080/"
        },
        "id": "eZfLI18T7w91",
        "outputId": "f0470ab8-ea0a-419d-cd7b-d0d890570e67"
      },
      "execution_count": 12,
      "outputs": [
        {
          "output_type": "stream",
          "name": "stdout",
          "text": [
            "(4, 2, 3)\n"
          ]
        }
      ]
    },
    {
      "cell_type": "code",
      "source": [
        "print(tensor_three_d.ndim)"
      ],
      "metadata": {
        "colab": {
          "base_uri": "https://localhost:8080/"
        },
        "id": "LkYStJ0g76Xh",
        "outputId": "e8e32add-8283-4efb-d339-ed86fbb46cae"
      },
      "execution_count": 15,
      "outputs": [
        {
          "output_type": "stream",
          "name": "stdout",
          "text": [
            "3\n"
          ]
        }
      ]
    },
    {
      "cell_type": "code",
      "source": [
        "tensor_four_d = tf.constant([\n",
        "    [\n",
        "  [[2,0,3],\n",
        "   [1,0,2]],\n",
        "  [[2,0,3],\n",
        "   [1,0,2]],\n",
        "  [[2,0,3],\n",
        "   [1,0,2]],\n",
        "  [[2,0,3],\n",
        "   [1,0,2]]\n",
        "  ], [\n",
        "  [[2,0,3],\n",
        "   [1,0,2]],\n",
        "  [[2,0,3],\n",
        "   [1,0,2]],\n",
        "  [[2,0,3],\n",
        "   [1,0,2]],\n",
        "  [[2,0,3],\n",
        "   [1,0,2]]\n",
        "  ], [\n",
        "  [[2,0,3],\n",
        "   [1,0,2]],\n",
        "  [[2,0,3],\n",
        "   [1,0,2]],\n",
        "  [[2,0,3],\n",
        "   [1,0,2]],\n",
        "  [[2,0,3],\n",
        "   [1,0,2]]\n",
        "  ]] )\n",
        "print(tensor_four_d)"
      ],
      "metadata": {
        "colab": {
          "base_uri": "https://localhost:8080/"
        },
        "id": "UsySG6dM9h-R",
        "outputId": "0578bdc9-7106-4124-83f9-b5b4b6e6105f"
      },
      "execution_count": 16,
      "outputs": [
        {
          "output_type": "stream",
          "name": "stdout",
          "text": [
            "tf.Tensor(\n",
            "[[[[2 0 3]\n",
            "   [1 0 2]]\n",
            "\n",
            "  [[2 0 3]\n",
            "   [1 0 2]]\n",
            "\n",
            "  [[2 0 3]\n",
            "   [1 0 2]]\n",
            "\n",
            "  [[2 0 3]\n",
            "   [1 0 2]]]\n",
            "\n",
            "\n",
            " [[[2 0 3]\n",
            "   [1 0 2]]\n",
            "\n",
            "  [[2 0 3]\n",
            "   [1 0 2]]\n",
            "\n",
            "  [[2 0 3]\n",
            "   [1 0 2]]\n",
            "\n",
            "  [[2 0 3]\n",
            "   [1 0 2]]]\n",
            "\n",
            "\n",
            " [[[2 0 3]\n",
            "   [1 0 2]]\n",
            "\n",
            "  [[2 0 3]\n",
            "   [1 0 2]]\n",
            "\n",
            "  [[2 0 3]\n",
            "   [1 0 2]]\n",
            "\n",
            "  [[2 0 3]\n",
            "   [1 0 2]]]], shape=(3, 4, 2, 3), dtype=int32)\n"
          ]
        }
      ]
    },
    {
      "cell_type": "code",
      "source": [
        "print(tensor_four_d.shape)"
      ],
      "metadata": {
        "colab": {
          "base_uri": "https://localhost:8080/"
        },
        "id": "XHsSvzbk90np",
        "outputId": "6c01399e-2929-4b97-d052-e83b4db8e545"
      },
      "execution_count": 17,
      "outputs": [
        {
          "output_type": "stream",
          "name": "stdout",
          "text": [
            "(3, 4, 2, 3)\n"
          ]
        }
      ]
    },
    {
      "cell_type": "code",
      "source": [
        "print(tensor_four_d.ndim)"
      ],
      "metadata": {
        "colab": {
          "base_uri": "https://localhost:8080/"
        },
        "id": "8chgEJ8F94-a",
        "outputId": "0c500f20-61a7-4280-ddc2-bbe52caa6b06"
      },
      "execution_count": 18,
      "outputs": [
        {
          "output_type": "stream",
          "name": "stdout",
          "text": [
            "4\n"
          ]
        }
      ]
    },
    {
      "cell_type": "code",
      "source": [
        "tensor_one_dd = tf.constant([2,0.0,3], dtype=tf.float16)\n",
        "casted_tensor = tf.cast(tensor_one_dd,dtype= tf.bool)\n",
        "casted_tensor2 = tf.cast(tensor_one_dd,dtype= tf.int32)\n",
        "print(tensor_one_dd)\n",
        "print(casted_tensor)\n",
        "print(casted_tensor2)"
      ],
      "metadata": {
        "colab": {
          "base_uri": "https://localhost:8080/"
        },
        "id": "cauRytvqBxYv",
        "outputId": "3f8855a4-b4fc-4b88-b1fe-5de87ad3ca8b"
      },
      "execution_count": 33,
      "outputs": [
        {
          "output_type": "stream",
          "name": "stdout",
          "text": [
            "tf.Tensor([2. 0. 3.], shape=(3,), dtype=float16)\n",
            "tf.Tensor([ True False  True], shape=(3,), dtype=bool)\n",
            "tf.Tensor([2 0 3], shape=(3,), dtype=int32)\n"
          ]
        }
      ]
    },
    {
      "cell_type": "code",
      "source": [
        "tensor_string = tf.constant(\"hello world\")\n",
        "print(tensor_string)\n",
        "tensor_string2 = tf.constant([\"hello world\", \"hi\"])\n",
        "print(tensor_string2)"
      ],
      "metadata": {
        "colab": {
          "base_uri": "https://localhost:8080/"
        },
        "id": "JAJiRktXCyf_",
        "outputId": "17c66b45-1134-4406-d79b-836e7ac396a0"
      },
      "execution_count": 36,
      "outputs": [
        {
          "output_type": "stream",
          "name": "stdout",
          "text": [
            "tf.Tensor(b'hello world', shape=(), dtype=string)\n",
            "tf.Tensor([b'hello world' b'hi'], shape=(2,), dtype=string)\n"
          ]
        }
      ]
    },
    {
      "cell_type": "code",
      "source": [
        "import numpy as np"
      ],
      "metadata": {
        "id": "pxKIF-V6DKRW"
      },
      "execution_count": 37,
      "outputs": []
    },
    {
      "cell_type": "code",
      "source": [
        "np_array = np.array([1,2,4])\n",
        "print(np_array)"
      ],
      "metadata": {
        "colab": {
          "base_uri": "https://localhost:8080/"
        },
        "id": "G76WM4IUDMx_",
        "outputId": "7ce65164-1316-4829-ca4e-aa8eb7fb8d85"
      },
      "execution_count": 39,
      "outputs": [
        {
          "output_type": "stream",
          "name": "stdout",
          "text": [
            "[1 2 4]\n"
          ]
        }
      ]
    },
    {
      "cell_type": "code",
      "source": [],
      "metadata": {
        "id": "ArLutTUADeOb"
      },
      "execution_count": null,
      "outputs": []
    }
  ]
}