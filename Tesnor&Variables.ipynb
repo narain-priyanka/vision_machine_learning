{
  "nbformat": 4,
  "nbformat_minor": 0,
  "metadata": {
    "colab": {
      "provenance": [],
      "authorship_tag": "ABX9TyN/EUVi+kGgBAPYGcekGCUb",
      "include_colab_link": true
    },
    "kernelspec": {
      "name": "python3",
      "display_name": "Python 3"
    },
    "language_info": {
      "name": "python"
    }
  },
  "cells": [
    {
      "cell_type": "markdown",
      "metadata": {
        "id": "view-in-github",
        "colab_type": "text"
      },
      "source": [
        "<a href=\"https://colab.research.google.com/github/narain-priyanka/vision_machine_learning/blob/master/Tesnor%26Variables.ipynb\" target=\"_parent\"><img src=\"https://colab.research.google.com/assets/colab-badge.svg\" alt=\"Open In Colab\"/></a>"
      ]
    },
    {
      "cell_type": "code",
      "execution_count": 27,
      "metadata": {
        "id": "SRB0ehrpnUmI"
      },
      "outputs": [],
      "source": [
        "import tensorflow as tf\n",
        "import numpy as np"
      ]
    },
    {
      "cell_type": "code",
      "source": [
        "tensor_zero_d = tf.constant(4)\n",
        "print(tensor_zero_d)"
      ],
      "metadata": {
        "colab": {
          "base_uri": "https://localhost:8080/"
        },
        "id": "q5hchT4FnaBx",
        "outputId": "5b98a4a4-2ed1-499a-dbf6-5131f4816b22"
      },
      "execution_count": 2,
      "outputs": [
        {
          "output_type": "stream",
          "name": "stdout",
          "text": [
            "tf.Tensor(4, shape=(), dtype=int32)\n"
          ]
        }
      ]
    },
    {
      "cell_type": "code",
      "source": [
        "tensor_2d = tf.constant([\n",
        "      [2,-3,1],\n",
        "      [2,-3,1]\n",
        "])\n",
        "print(tensor_2d)"
      ],
      "metadata": {
        "colab": {
          "base_uri": "https://localhost:8080/"
        },
        "id": "FQrMb9z1nueq",
        "outputId": "0b18f0c1-8214-4824-df05-96e89d474270"
      },
      "execution_count": 3,
      "outputs": [
        {
          "output_type": "stream",
          "name": "stdout",
          "text": [
            "tf.Tensor(\n",
            "[[ 2 -3  1]\n",
            " [ 2 -3  1]], shape=(2, 3), dtype=int32)\n"
          ]
        }
      ]
    },
    {
      "cell_type": "code",
      "source": [
        "tensor_one_d= tf.constant([1.0,2,3], dtype=tf.float32)\n",
        "casted_tensor = tf.cast(tensor_one_d, dtype=tf.int16)\n",
        "print(casted_tensor)\n",
        "print(tensor_one_d)"
      ],
      "metadata": {
        "colab": {
          "base_uri": "https://localhost:8080/"
        },
        "id": "rUF-Tm9dvbyF",
        "outputId": "09e456c9-36f3-4f5d-9502-8b90435f9c30"
      },
      "execution_count": 4,
      "outputs": [
        {
          "output_type": "stream",
          "name": "stdout",
          "text": [
            "tf.Tensor([1 2 3], shape=(3,), dtype=int16)\n",
            "tf.Tensor([1. 2. 3.], shape=(3,), dtype=float32)\n"
          ]
        }
      ]
    },
    {
      "cell_type": "code",
      "source": [
        "tensor_bool = tf.constant([True, False, True])\n",
        "tensor_string= tf.constant([\"Hi\",\"Hello\"])\n",
        "print(tensor_bool)\n",
        "print(tensor_string)"
      ],
      "metadata": {
        "colab": {
          "base_uri": "https://localhost:8080/"
        },
        "id": "saIV8gsYwY3k",
        "outputId": "5008fc25-a225-449e-e196-ced1d8a30d74"
      },
      "execution_count": 5,
      "outputs": [
        {
          "output_type": "stream",
          "name": "stdout",
          "text": [
            "tf.Tensor([ True False  True], shape=(3,), dtype=bool)\n",
            "tf.Tensor([b'Hi' b'Hello'], shape=(2,), dtype=string)\n"
          ]
        }
      ]
    },
    {
      "cell_type": "code",
      "source": [
        "import numpy as np"
      ],
      "metadata": {
        "id": "-pumkWmEw3zQ"
      },
      "execution_count": 6,
      "outputs": []
    },
    {
      "cell_type": "code",
      "source": [
        "np_array= np.array([1,2,3])\n",
        "print(np_array)\n",
        "converted_tensor = tf.convert_to_tensor(np_array)\n",
        "print(converted_tensor)"
      ],
      "metadata": {
        "colab": {
          "base_uri": "https://localhost:8080/"
        },
        "id": "9Z4kmAjHxGDy",
        "outputId": "93f1c1fb-8db6-45fb-cea7-fc05c60f9c31"
      },
      "execution_count": 7,
      "outputs": [
        {
          "output_type": "stream",
          "name": "stdout",
          "text": [
            "[1 2 3]\n",
            "tf.Tensor([1 2 3], shape=(3,), dtype=int64)\n"
          ]
        }
      ]
    },
    {
      "cell_type": "code",
      "source": [
        "eye_tensor= tf.eye(\n",
        "    num_rows=3,\n",
        "    num_columns=3,\n",
        "    batch_shape=[2,3],\n",
        "    dtype=tf.dtypes.float32,\n",
        "    name=None\n",
        ")\n",
        "print(eye_tensor)\n"
      ],
      "metadata": {
        "colab": {
          "base_uri": "https://localhost:8080/"
        },
        "id": "MGVX7MVIxVBD",
        "outputId": "bb340cc6-e5cc-452f-cb58-0d1241ae4567"
      },
      "execution_count": 8,
      "outputs": [
        {
          "output_type": "stream",
          "name": "stdout",
          "text": [
            "tf.Tensor(\n",
            "[[[[1. 0. 0.]\n",
            "   [0. 1. 0.]\n",
            "   [0. 0. 1.]]\n",
            "\n",
            "  [[1. 0. 0.]\n",
            "   [0. 1. 0.]\n",
            "   [0. 0. 1.]]\n",
            "\n",
            "  [[1. 0. 0.]\n",
            "   [0. 1. 0.]\n",
            "   [0. 0. 1.]]]\n",
            "\n",
            "\n",
            " [[[1. 0. 0.]\n",
            "   [0. 1. 0.]\n",
            "   [0. 0. 1.]]\n",
            "\n",
            "  [[1. 0. 0.]\n",
            "   [0. 1. 0.]\n",
            "   [0. 0. 1.]]\n",
            "\n",
            "  [[1. 0. 0.]\n",
            "   [0. 1. 0.]\n",
            "   [0. 0. 1.]]]], shape=(2, 3, 3, 3), dtype=float32)\n"
          ]
        }
      ]
    },
    {
      "cell_type": "code",
      "source": [
        "fill_tensor= tf.fill(\n",
        "    [2,3,4], 5, name=None, layout=None\n",
        ")\n",
        "print(fill_tensor)"
      ],
      "metadata": {
        "colab": {
          "base_uri": "https://localhost:8080/"
        },
        "id": "F1fElF8izgYC",
        "outputId": "57878772-1728-43a6-ab44-611141700e3c"
      },
      "execution_count": 9,
      "outputs": [
        {
          "output_type": "stream",
          "name": "stdout",
          "text": [
            "tf.Tensor(\n",
            "[[[5 5 5 5]\n",
            "  [5 5 5 5]\n",
            "  [5 5 5 5]]\n",
            "\n",
            " [[5 5 5 5]\n",
            "  [5 5 5 5]\n",
            "  [5 5 5 5]]], shape=(2, 3, 4), dtype=int32)\n"
          ]
        }
      ]
    },
    {
      "cell_type": "code",
      "source": [
        "ones_tensor=tf.ones(\n",
        "    [2,3,3],\n",
        "    dtype=tf.dtypes.float32,\n",
        "    name=None,\n",
        "    layout=None\n",
        ")\n",
        "print(ones_tensor)"
      ],
      "metadata": {
        "colab": {
          "base_uri": "https://localhost:8080/"
        },
        "id": "eJol4pfq0SaD",
        "outputId": "f44f1fe5-c5f1-4ef6-e527-1ef95882710d"
      },
      "execution_count": 10,
      "outputs": [
        {
          "output_type": "stream",
          "name": "stdout",
          "text": [
            "tf.Tensor(\n",
            "[[[1. 1. 1.]\n",
            "  [1. 1. 1.]\n",
            "  [1. 1. 1.]]\n",
            "\n",
            " [[1. 1. 1.]\n",
            "  [1. 1. 1.]\n",
            "  [1. 1. 1.]]], shape=(2, 3, 3), dtype=float32)\n"
          ]
        }
      ]
    },
    {
      "cell_type": "code",
      "source": [
        "ones_like_tensor=tf.ones_like(\n",
        "    ones_tensor\n",
        ")\n",
        "print(ones_like_tensor)"
      ],
      "metadata": {
        "colab": {
          "base_uri": "https://localhost:8080/"
        },
        "id": "AiE4nzCS0Z1N",
        "outputId": "716a1814-d3c0-4c36-85a3-6315d79f6cc8"
      },
      "execution_count": 11,
      "outputs": [
        {
          "output_type": "stream",
          "name": "stdout",
          "text": [
            "tf.Tensor(\n",
            "[[[1. 1. 1.]\n",
            "  [1. 1. 1.]\n",
            "  [1. 1. 1.]]\n",
            "\n",
            " [[1. 1. 1.]\n",
            "  [1. 1. 1.]\n",
            "  [1. 1. 1.]]], shape=(2, 3, 3), dtype=float32)\n"
          ]
        }
      ]
    },
    {
      "cell_type": "code",
      "source": [
        "t = tf.constant([1,2,3])\n",
        "tf.size(t, out_type=tf.float32)"
      ],
      "metadata": {
        "colab": {
          "base_uri": "https://localhost:8080/"
        },
        "id": "l1WCerWb5kZ3",
        "outputId": "db4cc113-748e-4f43-e6f3-d61295c733eb"
      },
      "execution_count": 12,
      "outputs": [
        {
          "output_type": "execute_result",
          "data": {
            "text/plain": [
              "<tf.Tensor: shape=(), dtype=float32, numpy=3.0>"
            ]
          },
          "metadata": {},
          "execution_count": 12
        }
      ]
    },
    {
      "cell_type": "code",
      "source": [
        "random_tensor = tf.random.normal(\n",
        "    [3,3],\n",
        "    mean=0,\n",
        "    stddev=1.0,\n",
        "    dtype=tf.dtypes.float32,\n",
        "    seed=None,\n",
        "    name=None\n",
        ")\n",
        "print(random_tensor)"
      ],
      "metadata": {
        "colab": {
          "base_uri": "https://localhost:8080/"
        },
        "id": "ZY85lEUm6CHP",
        "outputId": "34e4db32-7ea7-48e0-8c0d-72d227e7689f"
      },
      "execution_count": 13,
      "outputs": [
        {
          "output_type": "stream",
          "name": "stdout",
          "text": [
            "tf.Tensor(\n",
            "[[-0.02774657  1.2975107   0.49835905]\n",
            " [-1.4062138  -2.0458696  -0.1148613 ]\n",
            " [ 0.28334266  1.9082602   1.3942025 ]], shape=(3, 3), dtype=float32)\n"
          ]
        }
      ]
    },
    {
      "cell_type": "code",
      "source": [
        "random_uniform =tf.random.uniform(\n",
        "    [2,3],\n",
        "    minval=0,\n",
        "    maxval=8,\n",
        "    dtype=tf.dtypes.float32,\n",
        "    seed=None,\n",
        "    name=None\n",
        ")\n",
        "print(random_uniform)"
      ],
      "metadata": {
        "id": "VBHllMKO9ixh",
        "colab": {
          "base_uri": "https://localhost:8080/"
        },
        "outputId": "d2074e65-4e76-41cc-aa33-d0b05ab4637c"
      },
      "execution_count": 14,
      "outputs": [
        {
          "output_type": "stream",
          "name": "stdout",
          "text": [
            "tf.Tensor(\n",
            "[[1.7420044  6.352516   6.323971  ]\n",
            " [1.7201462  5.2708883  0.29879856]], shape=(2, 3), dtype=float32)\n"
          ]
        }
      ]
    },
    {
      "cell_type": "code",
      "source": [
        "tf.random.set_seed(5)\n",
        "print(tf.random.uniform(shape=[3,], maxval=5, dtype=tf.int32, seed=10))"
      ],
      "metadata": {
        "id": "0yfOTkjBBvRz",
        "colab": {
          "base_uri": "https://localhost:8080/"
        },
        "outputId": "77f0bdb2-a91d-4dc4-8baf-61b5ff993b3b"
      },
      "execution_count": 15,
      "outputs": [
        {
          "output_type": "stream",
          "name": "stdout",
          "text": [
            "tf.Tensor([4 3 1], shape=(3,), dtype=int32)\n"
          ]
        }
      ]
    },
    {
      "cell_type": "code",
      "source": [
        "tf.random.set_seed(5)\n",
        "print(tf.random.uniform(shape=[3,], maxval=5, dtype=tf.int32, seed=10))"
      ],
      "metadata": {
        "id": "DnTr3HhBCAie",
        "colab": {
          "base_uri": "https://localhost:8080/"
        },
        "outputId": "c15a53d1-50c3-40e0-c13f-4701ea1955d8"
      },
      "execution_count": 16,
      "outputs": [
        {
          "output_type": "stream",
          "name": "stdout",
          "text": [
            "tf.Tensor([4 3 1], shape=(3,), dtype=int32)\n"
          ]
        }
      ]
    },
    {
      "cell_type": "code",
      "source": [
        "tensor_indexed = tf.constant([1,4,5,6,2,4,100,99,34])\n",
        "print(tensor_indexed)\n",
        "print(tensor_indexed[0:4])\n",
        "print(tensor_indexed[:4])\n",
        "print(tensor_indexed[1:5])\n",
        "print(tensor_indexed[4:-2])\n",
        "print(tensor_indexed[1:6:2])"
      ],
      "metadata": {
        "id": "IoFCc-1pCNjj",
        "colab": {
          "base_uri": "https://localhost:8080/"
        },
        "outputId": "8163f026-6562-41e7-dc98-b785f5f5e20c"
      },
      "execution_count": 17,
      "outputs": [
        {
          "output_type": "stream",
          "name": "stdout",
          "text": [
            "tf.Tensor([  1   4   5   6   2   4 100  99  34], shape=(9,), dtype=int32)\n",
            "tf.Tensor([1 4 5 6], shape=(4,), dtype=int32)\n",
            "tf.Tensor([1 4 5 6], shape=(4,), dtype=int32)\n",
            "tf.Tensor([4 5 6 2], shape=(4,), dtype=int32)\n",
            "tf.Tensor([  2   4 100], shape=(3,), dtype=int32)\n",
            "tf.Tensor([4 6 4], shape=(3,), dtype=int32)\n"
          ]
        }
      ]
    },
    {
      "cell_type": "code",
      "source": [
        "tensor_indexed_twod = tf.constant([[2,3,4,5],[3,4,5,6],[2,5,6,7]])\n",
        "print(tensor_indexed_twod[0:3, 0:2])\n",
        "print(tensor_indexed_twod[2, :])\n",
        "print(tensor_indexed_twod[2, 1:])\n",
        "print(tensor_indexed_twod[:,0])\n",
        "print(tensor_indexed_twod[...,0])"
      ],
      "metadata": {
        "id": "wUFk7kRbDv5e",
        "colab": {
          "base_uri": "https://localhost:8080/"
        },
        "outputId": "4df14d1d-7769-4fe9-8d6a-7d9aa6cfddbe"
      },
      "execution_count": 18,
      "outputs": [
        {
          "output_type": "stream",
          "name": "stdout",
          "text": [
            "tf.Tensor(\n",
            "[[2 3]\n",
            " [3 4]\n",
            " [2 5]], shape=(3, 2), dtype=int32)\n",
            "tf.Tensor([2 5 6 7], shape=(4,), dtype=int32)\n",
            "tf.Tensor([5 6 7], shape=(3,), dtype=int32)\n",
            "tf.Tensor([2 3 2], shape=(3,), dtype=int32)\n",
            "tf.Tensor([2 3 2], shape=(3,), dtype=int32)\n"
          ]
        }
      ]
    },
    {
      "cell_type": "code",
      "source": [
        "tf.range(1,6)"
      ],
      "metadata": {
        "id": "KEts4x0PC1Qu",
        "colab": {
          "base_uri": "https://localhost:8080/"
        },
        "outputId": "ab8df699-ef2e-4c86-d780-2f5552e75283"
      },
      "execution_count": 19,
      "outputs": [
        {
          "output_type": "execute_result",
          "data": {
            "text/plain": [
              "<tf.Tensor: shape=(5,), dtype=int32, numpy=array([1, 2, 3, 4, 5], dtype=int32)>"
            ]
          },
          "metadata": {},
          "execution_count": 19
        }
      ]
    },
    {
      "cell_type": "code",
      "source": [
        "tensor_indexed_3D = tf.constant([\n",
        "  [[2,3,4,5],[3,4,5,6]],\n",
        "  [[2,3,4,5],[3,4,5,6]]])\n",
        "print(tensor_indexed_3D)\n",
        "print(tensor_indexed_3D[0,:,:])\n",
        "print(tensor_indexed_3D[...,:,3])"
      ],
      "metadata": {
        "id": "I_3yUlbdCjW2",
        "colab": {
          "base_uri": "https://localhost:8080/"
        },
        "outputId": "22b58481-d6dd-4b3e-a0d8-419a41f1074d"
      },
      "execution_count": 20,
      "outputs": [
        {
          "output_type": "stream",
          "name": "stdout",
          "text": [
            "tf.Tensor(\n",
            "[[[2 3 4 5]\n",
            "  [3 4 5 6]]\n",
            "\n",
            " [[2 3 4 5]\n",
            "  [3 4 5 6]]], shape=(2, 2, 4), dtype=int32)\n",
            "tf.Tensor(\n",
            "[[2 3 4 5]\n",
            " [3 4 5 6]], shape=(2, 4), dtype=int32)\n",
            "tf.Tensor(\n",
            "[[5 6]\n",
            " [5 6]], shape=(2, 2), dtype=int32)\n"
          ]
        }
      ]
    },
    {
      "cell_type": "code",
      "source": [
        "# if 'input' is [[ 0,  1,  2, 3]\n",
        "#                [-1,  0,  1, 2]\n",
        "#                [-2, -1,  0, 1]\n",
        "#                [-3, -2, -1, 0]],\n",
        "# you can read all these in linalg section\n",
        "\n",
        "tensor_2d = tf.constant([ [ 0,  1,  2, 3],\n",
        "                          [-1,  1,  5, 2],\n",
        "                          [-2, -3,  2, 1],\n",
        "                          [-3, -2, -1, 0]])\n",
        "\n",
        "tensor_outd = tf.constant([ [ 0,  1,  2, 3],\n",
        "                          [-1,  0,  5, 2],\n",
        "                          [-2, -1,  0, 1],\n",
        "                          [-3, -2, -1, 0]])\n",
        "tf.linalg.band_part(tensor_2d, -1, 3)\n",
        "\n"
      ],
      "metadata": {
        "id": "ET8iCwT1I8BM",
        "colab": {
          "base_uri": "https://localhost:8080/"
        },
        "outputId": "ea0960ed-5f36-42cf-9814-e9d77d3e5521"
      },
      "execution_count": 21,
      "outputs": [
        {
          "output_type": "execute_result",
          "data": {
            "text/plain": [
              "<tf.Tensor: shape=(4, 4), dtype=int32, numpy=\n",
              "array([[ 0,  1,  2,  3],\n",
              "       [-1,  1,  5,  2],\n",
              "       [-2, -3,  2,  1],\n",
              "       [-3, -2, -1,  0]], dtype=int32)>"
            ]
          },
          "metadata": {},
          "execution_count": 21
        }
      ]
    },
    {
      "cell_type": "code",
      "source": [
        "tensor_2d = tf.constant([ [ 0,  1,  2, 3],\n",
        "                          [-1,  1,  5, 2],\n",
        "                          [-2, -3,  2, 1],\n",
        "                          [-3, -2, -1, 0]], dtype=tf.float32)\n",
        "tensor_inv=tf.linalg.inv(tensor_2d)\n",
        "print(tensor_inv)\n",
        "print(tensor_inv@tensor_2d)  # this gives the identity matrix where diagonals are all 1 and rest around 0)"
      ],
      "metadata": {
        "colab": {
          "base_uri": "https://localhost:8080/"
        },
        "id": "HesA6EW_SPad",
        "outputId": "f3e011a8-72b3-47b4-94ce-2e27c83c291c"
      },
      "execution_count": 22,
      "outputs": [
        {
          "output_type": "stream",
          "name": "stdout",
          "text": [
            "tf.Tensor(\n",
            "[[ 5.5555534e-02 -2.0000002e-01  2.3333335e-01 -4.2222226e-01]\n",
            " [ 3.5762785e-08  2.0000003e-01 -4.0000004e-01  2.0000002e-01]\n",
            " [-1.6666667e-01  1.9999999e-01  1.0000001e-01 -1.3333334e-01]\n",
            " [ 4.4444445e-01 -2.0000000e-01  6.6666655e-02  2.2222228e-02]], shape=(4, 4), dtype=float32)\n",
            "tf.Tensor(\n",
            "[[ 1.0000001e+00 -5.9604645e-08 -1.1920929e-07 -8.9406967e-08]\n",
            " [ 0.0000000e+00  1.0000001e+00  5.9604645e-08  1.4901161e-07]\n",
            " [ 1.4901161e-08 -2.9802322e-08  1.0000000e+00  0.0000000e+00]\n",
            " [ 1.4901161e-08  2.9802322e-08 -1.1920929e-07  1.0000000e+00]], shape=(4, 4), dtype=float32)\n"
          ]
        }
      ]
    },
    {
      "cell_type": "code",
      "source": [
        "# enisum operators @2:55\n",
        "A = np.array([ [ 0,  1,  2, 3],\n",
        "               [-1,  3,  5, 2],\n",
        "               [-2, -3,  4, 1],\n",
        "               [-3, -2, -1, 0]])\n",
        "\n",
        "B = np.array([ [ 0,  1,  2, 3],\n",
        "               [-1,  0,  5, 2],\n",
        "               [-2, -1,  0, 1],\n",
        "               [-3, -2, -1, 0]])\n",
        "print(np.matmul(A,B)) #for the matrix multiplication necessary codition is ij,jk\n",
        "print(np.einsum(\"ij,jk->ik\", A,B))\n",
        "\n",
        "#lement wise multiplication ncessary condition is matrix has same shape ij,ij\n",
        "# which is called Hardamond multiplication\n",
        "print(A*B)\n",
        "#how to write it in einsum\n",
        "print(np.einsum(\"ij,ij->ij\", A,B))"
      ],
      "metadata": {
        "colab": {
          "base_uri": "https://localhost:8080/"
        },
        "id": "15qDt2N69pW7",
        "outputId": "f83ba16d-bb7d-4fc6-e59d-05cf11a296e1"
      },
      "execution_count": 32,
      "outputs": [
        {
          "output_type": "stream",
          "name": "stdout",
          "text": [
            "[[-14  -8   2   4]\n",
            " [-19 -10  11   8]\n",
            " [ -8  -8 -20  -8]\n",
            " [  4  -2 -16 -14]]\n",
            "[[-14  -8   2   4]\n",
            " [-19 -10  11   8]\n",
            " [ -8  -8 -20  -8]\n",
            " [  4  -2 -16 -14]]\n",
            "[[ 0  1  4  9]\n",
            " [ 1  0 25  4]\n",
            " [ 4  3  0  1]\n",
            " [ 9  4  1  0]]\n",
            "[[ 0  1  4  9]\n",
            " [ 1  0 25  4]\n",
            " [ 4  3  0  1]\n",
            " [ 9  4  1  0]]\n"
          ]
        }
      ]
    },
    {
      "cell_type": "code",
      "source": [
        "  # write matrix transpose using einsum operator\n",
        "  # transpose is where a matrix with m*n dimension is truned into n*m dimension\n",
        "  A = np.array([ [ 0,  1,  2, 3],\n",
        "               [-1,  3,  5, 2],\n",
        "               [-2, -3,  4, 1],\n",
        "               [-3, -2, -1, 0]])\n",
        "  print(A.T, \"\\n\") # normal way of doing it via T function\n",
        "  print(np.einsum(\"ij->ji\",A))"
      ],
      "metadata": {
        "colab": {
          "base_uri": "https://localhost:8080/"
        },
        "id": "GFUiEZnZ_ifg",
        "outputId": "b4575867-536e-4744-c098-200f58875a6d"
      },
      "execution_count": 34,
      "outputs": [
        {
          "output_type": "stream",
          "name": "stdout",
          "text": [
            "[[ 0 -1 -2 -3]\n",
            " [ 1  3 -3 -2]\n",
            " [ 2  5  4 -1]\n",
            " [ 3  2  1  0]] \n",
            "\n",
            "[[ 0 -1 -2 -3]\n",
            " [ 1  3 -3 -2]\n",
            " [ 2  5  4 -1]\n",
            " [ 3  2  1  0]]\n"
          ]
        }
      ]
    },
    {
      "cell_type": "code",
      "source": [
        "#common tensorflow functions\n",
        "# add one more axis\n",
        "tensor_oned = tf.constant([2,3,4])\n",
        "print(tensor_oned.shape)\n",
        "print(tf.expand_dims(tensor_oned,axis=0))\n",
        "\n",
        "tf.squeeze() # does opposite of expand"
      ],
      "metadata": {
        "colab": {
          "base_uri": "https://localhost:8080/"
        },
        "id": "QNRCbme5ApVr",
        "outputId": "84aee1d1-3992-4484-c221-2c65f9692e08"
      },
      "execution_count": 40,
      "outputs": [
        {
          "output_type": "stream",
          "name": "stdout",
          "text": [
            "(3,)\n",
            "tf.Tensor([[2 3 4]], shape=(1, 3), dtype=int32)\n"
          ]
        }
      ]
    },
    {
      "cell_type": "code",
      "source": [
        "#ragged tensor\n",
        "#sparse tensor\n",
        "#string\n",
        "#variables\n",
        "x = tf.constant([1,2]) #constants are tensors whose values cannot be changed during execution."
      ],
      "metadata": {
        "id": "e-mCZ21cCiW1"
      },
      "execution_count": 44,
      "outputs": []
    },
    {
      "cell_type": "code",
      "source": [
        "#variables Variables are tensors whose values can be modified during execution.\n",
        "x_var = tf.Variable(x, name='var1')\n",
        "print(x_var)"
      ],
      "metadata": {
        "colab": {
          "base_uri": "https://localhost:8080/"
        },
        "id": "DU10W5klQtXj",
        "outputId": "5fd3b8c8-dd10-44c6-865a-5864d62eb677"
      },
      "execution_count": 49,
      "outputs": [
        {
          "output_type": "stream",
          "name": "stdout",
          "text": [
            "<tf.Variable 'var1:0' shape=(2,) dtype=int32, numpy=array([1, 2], dtype=int32)>\n"
          ]
        }
      ]
    },
    {
      "cell_type": "code",
      "source": [
        "x_var.assign_add([1,3])\n",
        "x_var.assign_add([3,4])"
      ],
      "metadata": {
        "colab": {
          "base_uri": "https://localhost:8080/"
        },
        "id": "OWDBOVBJTdit",
        "outputId": "5a92a6be-ad86-4829-91c0-7bd24e3debf7"
      },
      "execution_count": 51,
      "outputs": [
        {
          "output_type": "execute_result",
          "data": {
            "text/plain": [
              "<tf.Variable 'UnreadVariable' shape=(2,) dtype=int32, numpy=array([ 6, 12], dtype=int32)>"
            ]
          },
          "metadata": {},
          "execution_count": 51
        }
      ]
    },
    {
      "cell_type": "code",
      "source": [
        "with tf.device('CPU:0'):\n",
        "  x_var = tf.Variable(0.2)\n",
        "\n",
        "with tf.device('GPU:0'):\n",
        "  x_tensor = tf.Variable(0.2)\n",
        "\n",
        "print(x_var.device)\n",
        "print(x_tensor.device)"
      ],
      "metadata": {
        "colab": {
          "base_uri": "https://localhost:8080/"
        },
        "id": "OGfMzVKyTuu2",
        "outputId": "319dadc5-3913-4d12-fb52-5902eb815905"
      },
      "execution_count": 58,
      "outputs": [
        {
          "output_type": "stream",
          "name": "stdout",
          "text": [
            "/job:localhost/replica:0/task:0/device:CPU:0\n",
            "/job:localhost/replica:0/task:0/device:CPU:0\n"
          ]
        }
      ]
    },
    {
      "cell_type": "code",
      "source": [
        "with tf.device('CPU:0'):\n",
        "  x_1 = tf.constant([2,3,4]) # This creates a 1-dimensional tensor (vector) with a shape of (3,), indicating that it has a length of 3 along that axis.\n",
        "  x_2 = tf.constant([2]) # valid as broadcasting will happen in this case when length is 1\n",
        "\n",
        "with tf.device('GPU:0'):\n",
        "  x_3 = x_1 + x_2\n",
        "\n",
        "print(x_1, x_1.device)\n",
        "print(x_2, x_2.device)\n",
        "print(x_3, x_3.device)"
      ],
      "metadata": {
        "colab": {
          "base_uri": "https://localhost:8080/"
        },
        "id": "1zMTHyJtUWho",
        "outputId": "690454a1-7604-443d-fdee-e67626b0ab03"
      },
      "execution_count": 62,
      "outputs": [
        {
          "output_type": "stream",
          "name": "stdout",
          "text": [
            "tf.Tensor([2 3 4], shape=(3,), dtype=int32) /job:localhost/replica:0/task:0/device:CPU:0\n",
            "tf.Tensor([2], shape=(1,), dtype=int32) /job:localhost/replica:0/task:0/device:CPU:0\n",
            "tf.Tensor([4 5 6], shape=(3,), dtype=int32) /job:localhost/replica:0/task:0/device:CPU:0\n"
          ]
        }
      ]
    },
    {
      "cell_type": "markdown",
      "source": [],
      "metadata": {
        "id": "mUH2G-fNI8wk"
      }
    }
  ]
}